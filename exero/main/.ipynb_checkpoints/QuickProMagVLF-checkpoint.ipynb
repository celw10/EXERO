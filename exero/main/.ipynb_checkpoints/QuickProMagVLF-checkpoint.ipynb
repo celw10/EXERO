{
 "cells": [
  {
   "cell_type": "code",
   "execution_count": 1,
   "metadata": {},
   "outputs": [],
   "source": [
    "from core.rdio import ImportIdentify, DataOrg, SaveImportToDisc\n",
    "import numpy as np"
   ]
  },
  {
   "cell_type": "code",
   "execution_count": 2,
   "metadata": {},
   "outputs": [
    {
     "ename": "SyntaxError",
     "evalue": "unexpected EOF while parsing (<ipython-input-2-bb75fc204bfc>, line 94)",
     "output_type": "error",
     "traceback": [
      "\u001b[0;36m  File \u001b[0;32m\"<ipython-input-2-bb75fc204bfc>\"\u001b[0;36m, line \u001b[0;32m94\u001b[0m\n\u001b[0;31m    #Function to check if the test passed\u001b[0m\n\u001b[0m                                         ^\u001b[0m\n\u001b[0;31mSyntaxError\u001b[0m\u001b[0;31m:\u001b[0m unexpected EOF while parsing\n"
     ]
    }
   ],
   "source": [
    "### TOGGLE WARNINGS\n",
    "\n",
    "#Ignore this warning, make sure I'm specifying unstructured arrays as dtype='object'\n",
    "np.warnings.filterwarnings('ignore', category=np.VisibleDeprecationWarning)\n",
    "\n",
    "### REQUIRED INFO FROM runner.py \n",
    "\n",
    "#Imported file name and imported file directory\n",
    "filename = \"Cor.txt\"\n",
    "filepath = \"/Users/christopherwilliams/Documents/1_PROFESSIONAL/1_Work/MagVLFConsult/01Codes/EXERO_V1.0/tests/sample/\" #Use test data for now\n",
    "\n",
    "### REQUIRED INFO FROM INSTALLATION\n",
    "\n",
    "#EXERO install directory\n",
    "install_loc = \"/Users/christopherwilliams/Documents/1_PROFESSIONAL/1_Work/MagVLFConsult/01Codes/EXERO_V1.0\"\n",
    "\n",
    "### REQUIRED INFO FROM PROJECT INITIALIZATION\n",
    "proj_loc = \"/tests\"\n",
    "\n",
    "\"\"\"MAIN RAW DATA INPUT/OUTPUT FUNCTION\"\"\"\n",
    "\n",
    "#I THINK I CAN SET THIS UP AS IF MAIN RUN OR WHATEVER?\n",
    "\n",
    "#Identify import files object\n",
    "identify_imports = ImportIdentify(filename, install_loc, proj_loc)\n",
    "\n",
    "#Return file time from identified import file\n",
    "ftype = identify_imports.identify_file_type()\n",
    "\n",
    "#Keep records of file imports\n",
    "identify_imports.make_import_hist_list(ftype)\n",
    "\n",
    "#Process import files object\n",
    "process_imports = DataOrg(filepath+filename, ftype, poption=False)\n",
    "\n",
    "#Read in text file\n",
    "data , l = process_imports.open_text()\n",
    "\n",
    "#Additional steps unique to rov and cor files containing both mag and vlf data\n",
    "if ftype == \"rov\" or ftype == \"cor\":\n",
    "\n",
    "    #Separate magnetic and VLF data in each file, includes noisy data point removal\n",
    "    sep_data, line_labels, count = process_imports.sep_magvlf_data(data, l)\n",
    "    \n",
    "    #Check if vlf data present\n",
    "    if not sep_data[1]:\n",
    "        #Exclusively mag data is present\n",
    "        i = 0\n",
    "        \n",
    "        #The VLF data list is empty.\n",
    "        file_out = process_imports.process_magvlf_data(sep_data[i], l, count)\n",
    "        \n",
    "        #Convert lists to an array (still in a list of [mag, vlf])\n",
    "        out_data = process_imports.lists_to_array(file_out)\n",
    "        \n",
    "        #Save raw data to disc object\n",
    "        raw_data_to_disc = SaveImportToDisc(install_loc, proj_loc, ftype)\n",
    "\n",
    "        #Save imporeted and raw processed mag and vlf data to disc\n",
    "        raw_data_to_disc.rovcor_data_to_disc(out_data, i)\n",
    "        \n",
    "    \n",
    "    #VLF data present.\n",
    "    else:\n",
    "        #For mag and vlf data\n",
    "        for i in range(2):\n",
    "            #Mag and VLF data are present\n",
    "            file_out = process_imports.process_magvlf_data(sep_data[i], l, count)\n",
    "            \n",
    "            #Convert lists to an array (still in a list of [mag, vlf])\n",
    "            out_data = process_imports.lists_to_array(file_out)\n",
    "            \n",
    "            #Save raw data to disc object\n",
    "            raw_data_to_disc = SaveImportToDisc(install_loc, proj_loc, ftype)\n",
    "            \n",
    "            #Save imporeted and raw processed mag and vlf data to disc\n",
    "            raw_data_to_disc.rovcor_data_to_disc(out_data, i)\n",
    "\n",
    "#Save base station data to disc    \n",
    "elif ftype == 'bas':\n",
    "        \n",
    "    #Convert lists to an array\n",
    "    file_out = process_imports.lists_to_array(data)\n",
    "\n",
    "    #Save raw data to disc object\n",
    "    raw_data_to_disc = SaveImportToDisc(install_loc, proj_loc, ftype)\n",
    "    \n",
    "    #Save raw base station data to disc\n",
    "    raw_data_to_disc.bas_data_to_disc(file_out)\n",
    "\n",
    "#Perform QC test with the \"test\" data then discard if passes.\n",
    "else:\n",
    "    print(\"Waiting to make a test here\")    #Function to check if the test passed"
   ]
  },
  {
   "cell_type": "code",
   "execution_count": 33,
   "metadata": {},
   "outputs": [],
   "source": [
    "mag_vals = [x for x in [y for y in data] if x]"
   ]
  },
  {
   "cell_type": "code",
   "execution_count": 34,
   "metadata": {},
   "outputs": [
    {
     "name": "stdout",
     "output_type": "stream",
     "text": [
      "[]\n"
     ]
    }
   ],
   "source": [
    "print(mag_vals)"
   ]
  },
  {
   "cell_type": "code",
   "execution_count": 13,
   "metadata": {},
   "outputs": [
    {
     "data": {
      "text/plain": [
       "[[0.0, 0.0, 52069.81, 99.0, 0.0, 113322.0],\n",
       " [0.0, 0.0, 52070.15, 99.0, 0.0, 113342.0],\n",
       " [0.0, 0.0, 52069.96, 99.0, 0.0, 113402.0],\n",
       " [0.0, 0.0, 52070.44, 99.0, 0.0, 113426.0]]"
      ]
     },
     "execution_count": 13,
     "metadata": {},
     "output_type": "execute_result"
    }
   ],
   "source": [
    "[y for y in data]"
   ]
  },
  {
   "cell_type": "code",
   "execution_count": null,
   "metadata": {},
   "outputs": [],
   "source": []
  }
 ],
 "metadata": {
  "kernelspec": {
   "display_name": "Python 3",
   "language": "python",
   "name": "python3"
  },
  "language_info": {
   "codemirror_mode": {
    "name": "ipython",
    "version": 3
   },
   "file_extension": ".py",
   "mimetype": "text/x-python",
   "name": "python",
   "nbconvert_exporter": "python",
   "pygments_lexer": "ipython3",
   "version": "3.6.11"
  }
 },
 "nbformat": 4,
 "nbformat_minor": 2
}
